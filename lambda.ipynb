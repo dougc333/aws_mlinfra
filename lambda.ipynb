{
 "cells": [
  {
   "cell_type": "code",
   "execution_count": 2,
   "metadata": {},
   "outputs": [
    {
     "data": {
      "text/plain": [
       "{'ResponseMetadata': {'RequestId': '6cb55135-6f32-11e8-b14e-f94d2035debe',\n",
       "  'HTTPStatusCode': 200,\n",
       "  'HTTPHeaders': {'date': 'Wed, 13 Jun 2018 17:51:39 GMT',\n",
       "   'content-type': 'application/json',\n",
       "   'content-length': '649',\n",
       "   'connection': 'keep-alive',\n",
       "   'x-amzn-requestid': '6cb55135-6f32-11e8-b14e-f94d2035debe'},\n",
       "  'RetryAttempts': 0},\n",
       " 'Functions': [{'FunctionName': 'test',\n",
       "   'FunctionArn': 'arn:aws:lambda:us-east-1:669059827483:function:test',\n",
       "   'Runtime': 'nodejs8.10',\n",
       "   'Role': 'arn:aws:iam::669059827483:role/service-role/test',\n",
       "   'Handler': 'index.handler',\n",
       "   'CodeSize': 445,\n",
       "   'Description': '',\n",
       "   'Timeout': 3,\n",
       "   'MemorySize': 128,\n",
       "   'LastModified': '2018-06-13T17:08:57.863+0000',\n",
       "   'CodeSha256': '4P+C/JzOes3f8or8ZUadGnQ4CC2Wk0NxPkmsVHLzGNA=',\n",
       "   'Version': '$LATEST',\n",
       "   'VpcConfig': {'SubnetIds': [], 'SecurityGroupIds': [], 'VpcId': ''},\n",
       "   'TracingConfig': {'Mode': 'PassThrough'},\n",
       "   'RevisionId': '3e99adc0-fa30-415d-9fd8-13b221aaa2ca'}]}"
      ]
     },
     "execution_count": 2,
     "metadata": {},
     "output_type": "execute_result"
    }
   ],
   "source": [
    "import boto3\n",
    "\n",
    "client = boto3.client('lambda')\n",
    "client.list_functions()"
   ]
  },
  {
   "cell_type": "code",
   "execution_count": 5,
   "metadata": {},
   "outputs": [
    {
     "name": "stdout",
     "output_type": "stream",
     "text": [
      "{\r\n",
      "    \"Role\": {\r\n",
      "        \"Path\": \"/\",\r\n",
      "        \"RoleName\": \"basic_lambda_role\",\r\n",
      "        \"RoleId\": \"AROAIG52EHUWHNG6KLVHK\",\r\n",
      "        \"Arn\": \"arn:aws:iam::669059827483:role/basic_lambda_role\",\r\n",
      "        \"CreateDate\": \"2018-06-14T09:16:08.937Z\",\r\n",
      "        \"AssumeRolePolicyDocument\": {\r\n",
      "            \"Version\": \"2012-10-17\",\r\n",
      "            \"Statement\": [\r\n",
      "                {\r\n",
      "                    \"Effect\": \"Allow\",\r\n",
      "                    \"Principal\": {\r\n",
      "                        \"AWS\": \"*\"\r\n",
      "                    },\r\n",
      "                    \"Action\": \"sts:AssumeRole\"\r\n",
      "                }\r\n",
      "            ]\r\n",
      "        }\r\n",
      "    }\r\n",
      "}\r\n"
     ]
    }
   ],
   "source": [
    "!aws iam create-role --role-name basic_lambda_role --assume-role-policy-document file://basic_lambdarole.json\n",
    "    "
   ]
  },
  {
   "cell_type": "code",
   "execution_count": 7,
   "metadata": {},
   "outputs": [
    {
     "name": "stdout",
     "output_type": "stream",
     "text": [
      "{\r\n",
      "    \"FunctionName\": \"hellowrld\",\r\n",
      "    \"FunctionArn\": \"arn:aws:lambda:us-east-1:669059827483:function:hellowrld\",\r\n",
      "    \"Runtime\": \"nodejs6.10\",\r\n",
      "    \"Role\": \"arn:aws:iam::669059827483:role/basic_lambda_role\",\r\n",
      "    \"Handler\": \"hellowrld.handler\",\r\n",
      "    \"CodeSize\": 315,\r\n",
      "    \"Description\": \"\",\r\n",
      "    \"Timeout\": 3,\r\n",
      "    \"MemorySize\": 128,\r\n",
      "    \"LastModified\": \"2018-06-14T18:39:52.409+0000\",\r\n",
      "    \"CodeSha256\": \"gAaV9vXPx6rGV4XX87knUGaAVuolnKx6cBJN5Xim5qA=\",\r\n",
      "    \"Version\": \"$LATEST\",\r\n",
      "    \"TracingConfig\": {\r\n",
      "        \"Mode\": \"PassThrough\"\r\n",
      "    }\r\n",
      "}\r\n"
     ]
    }
   ],
   "source": [
    "#aws cli lambda, create lambda function, register an event, print out event. \n",
    "# aws cli lambda read file from s3\n",
    "# The function metadata is created from the request parameters, \n",
    "#and the code for the function is provided by a .zip file in the request body. \n",
    "#If the function name already exists, the operation will fail. Note that the function name is case-sensitive.\n",
    "!aws lambda create-function --region us-east-1 --function-name hellowrld --zip-file fileb://hellowrld.zip --role arn:aws:iam::669059827483:role/basic_lambda_role --handler hellowrld.handler --runtime nodejs6.10 --profile dclambda"
   ]
  },
  {
   "cell_type": "code",
   "execution_count": 13,
   "metadata": {},
   "outputs": [
    {
     "name": "stdout",
     "output_type": "stream",
     "text": [
      "{\r\n",
      "    \"StatusCode\": 200,\r\n",
      "    \"LogResult\": \"U1RBUlQgUmVxdWVzdElkOiBiYTgzMzA1OS03MDBmLTExZTgtYTgxYi1hMWNiZTExMTE5ZDAgVmVyc2lvbjogJExBVEVTVAoyMDE4LTA2LTE0VDIwOjE1OjQ5LjE0MFoJYmE4MzMwNTktNzAwZi0xMWU4LWE4MWItYTFjYmUxMTExOWQwCXZhbHVlMSA9IHZhbHVlMQoyMDE4LTA2LTE0VDIwOjE1OjQ5LjE0MFoJYmE4MzMwNTktNzAwZi0xMWU4LWE4MWItYTFjYmUxMTExOWQwCXZhbHVlMiA9IHZhbHVlMgoyMDE4LTA2LTE0VDIwOjE1OjQ5LjE0MFoJYmE4MzMwNTktNzAwZi0xMWU4LWE4MWItYTFjYmUxMTExOWQwCXZhbHVlMyA9IHZhbHVlMwpFTkQgUmVxdWVzdElkOiBiYTgzMzA1OS03MDBmLTExZTgtYTgxYi1hMWNiZTExMTE5ZDAKUkVQT1JUIFJlcXVlc3RJZDogYmE4MzMwNTktNzAwZi0xMWU4LWE4MWItYTFjYmUxMTExOWQwCUR1cmF0aW9uOiAwLjY2IG1zCUJpbGxlZCBEdXJhdGlvbjogMTAwIG1zIAlNZW1vcnkgU2l6ZTogMTI4IE1CCU1heCBNZW1vcnkgVXNlZDogMjAgTUIJCg==\",\r\n",
      "    \"ExecutedVersion\": \"$LATEST\"\r\n",
      "}\r\n"
     ]
    }
   ],
   "source": [
    "!aws lambda invoke --invocation-type RequestResponse --function-name hellowrld --region us-east-1 --log-type Tail --payload '{\"key1\":\"value1\", \"key2\":\"value2\", \"key3\":\"value3\"}' --profile dclambda outhello.txt  "
   ]
  },
  {
   "cell_type": "code",
   "execution_count": 12,
   "metadata": {},
   "outputs": [
    {
     "name": "stdout",
     "output_type": "stream",
     "text": [
      "\r\n",
      "An error occurred (InvalidAuthorizationMessageException) when calling the DecodeAuthorizationMessage operation: Message is not valid: [83, 84, 65, 82, 84, 32, 82, 101, 113, 117, 101, 115, 116, 73, 100, 58, 32, 100, 102, 101, 53, 57, 99, 56, 54, 45, 55, 48, 48, 101, 45, 49, 49, 101, 56, 45, 98, 52, 52, 54, 45, 54, 102, 54, 50, 102, 99, 100, 100, 99, 97, 98, 48, 32, 86, 101, 114, 115, 105, 111, 110, 58, 32, 36, 76, 65, 84, 69, 83, 84, 10, 50, 48, 49, 56, 45, 48, 54, 45, 49, 52, 84, 50, 48, 58, 48, 57, 58, 52, 50, 46, 55, 50, 48, 90, 9, 100, 102, 101, 53, 57, 99, 56, 54, 45, 55, 48, 48, 101, 45, 49, 49, 101, 56, 45, 98, 52, 52, 54, 45, 54, 102, 54, 50, 102, 99, 100, 100, 99, 97, 98, 48, 9, 118, 97, 108, 117, 101, 49, 32, 61, 32, 118, 97, 108, 117, 101, 49, 10, 50, 48, 49, 56, 45, 48, 54, 45, 49, 52, 84, 50, 48, 58, 48, 57, 58, 52, 50, 46, 55, 55, 56, 90, 9, 100, 102, 101, 53, 57, 99, 56, 54, 45, 55, 48, 48, 101, 45, 49, 49, 101, 56, 45, 98, 52, 52, 54, 45, 54, 102, 54, 50, 102, 99, 100, 100, 99, 97, 98, 48, 9, 118, 97, 108, 117, 101, 50, 32, 61, 32, 118, 97, 108, 117, 101, 50, 10, 50, 48, 49, 56, 45, 48, 54, 45, 49, 52, 84, 50, 48, 58, 48, 57, 58, 52, 50, 46, 55, 55, 56, 90, 9, 100, 102, 101, 53, 57, 99, 56, 54, 45, 55, 48, 48, 101, 45, 49, 49, 101, 56, 45, 98, 52, 52, 54, 45, 54, 102, 54, 50, 102, 99, 100, 100, 99, 97, 98, 48, 9, 118, 97, 108, 117, 101, 51, 32, 61, 32, 118, 97, 108, 117, 101, 51, 10, 69, 78, 68, 32, 82, 101, 113, 117, 101, 115, 116, 73, 100, 58, 32, 100, 102, 101, 53, 57, 99, 56, 54, 45, 55, 48, 48, 101, 45, 49, 49, 101, 56, 45, 98, 52, 52, 54, 45, 54, 102, 54, 50, 102, 99, 100, 100, 99, 97, 98, 48, 10, 82, 69, 80, 79, 82, 84, 32, 82, 101, 113, 117, 101, 115, 116, 73, 100, 58, 32, 100, 102, 101, 53, 57, 99, 56, 54, 45, 55, 48, 48, 101, 45, 49, 49, 101, 56, 45, 98, 52, 52, 54, 45, 54, 102, 54, 50, 102, 99, 100, 100, 99, 97, 98, 48, 9, 68, 117, 114, 97, 116, 105, 111, 110, 58, 32, 49, 53, 50, 46, 56, 49, 32, 109, 115, 9, 66, 105, 108, 108, 101, 100, 32, 68, 117, 114, 97, 116, 105, 111, 110, 58, 32, 50, 48, 48, 32, 109, 115, 32, 9, 77, 101, 109, 111, 114, 121, 32, 83, 105, 122, 101, 58, 32, 49, 50, 56, 32, 77, 66, 9, 77, 97, 120, 32, 77, 101, 109, 111, 114, 121, 32, 85, 115, 101, 100, 58, 32, 50, 48, 32, 77, 66, 9, 10]\r\n"
     ]
    }
   ],
   "source": [
    "!aws sts decode-authorization-message --encoded-message \"U1RBUlQgUmVxdWVzdElkOiBkZmU1OWM4Ni03MDBlLTExZTgtYjQ0Ni02ZjYyZmNkZGNhYjAgVmVyc2lvbjogJExBVEVTVAoyMDE4LTA2LTE0VDIwOjA5OjQyLjcyMFoJZGZlNTljODYtNzAwZS0xMWU4LWI0NDYtNmY2MmZjZGRjYWIwCXZhbHVlMSA9IHZhbHVlMQoyMDE4LTA2LTE0VDIwOjA5OjQyLjc3OFoJZGZlNTljODYtNzAwZS0xMWU4LWI0NDYtNmY2MmZjZGRjYWIwCXZhbHVlMiA9IHZhbHVlMgoyMDE4LTA2LTE0VDIwOjA5OjQyLjc3OFoJZGZlNTljODYtNzAwZS0xMWU4LWI0NDYtNmY2MmZjZGRjYWIwCXZhbHVlMyA9IHZhbHVlMwpFTkQgUmVxdWVzdElkOiBkZmU1OWM4Ni03MDBlLTExZTgtYjQ0Ni02ZjYyZmNkZGNhYjAKUkVQT1JUIFJlcXVlc3RJZDogZGZlNTljODYtNzAwZS0xMWU4LWI0NDYtNmY2MmZjZGRjYWIwCUR1cmF0aW9uOiAxNTIuODEgbXMJQmlsbGVkIER1cmF0aW9uOiAyMDAgbXMgCU1lbW9yeSBTaXplOiAxMjggTUIJTWF4IE1lbW9yeSBVc2VkOiAyMCBNQgkK\""
   ]
  },
  {
   "cell_type": "code",
   "execution_count": 14,
   "metadata": {},
   "outputs": [
    {
     "name": "stdout",
     "output_type": "stream",
     "text": [
      "{\n",
      "    \"FunctionName\": \"reads3\",\n",
      "    \"FunctionArn\": \"arn:aws:lambda:us-east-1:669059827483:function:reads3\",\n",
      "    \"Runtime\": \"nodejs6.10\",\n",
      "    \"Role\": \"arn:aws:iam::669059827483:role/basic_lambda_role\",\n",
      "    \"Handler\": \"reads3.handler\",\n",
      "    \"CodeSize\": 495,\n",
      "    \"Description\": \"\",\n",
      "    \"Timeout\": 3,\n",
      "    \"MemorySize\": 128,\n",
      "    \"LastModified\": \"2018-06-14T20:23:20.550+0000\",\n",
      "    \"CodeSha256\": \"ggN2GUGG0UYiS0aqcMKO8kmZ8q6bug9uCEgBxsSF9es=\",\n",
      "    \"Version\": \"$LATEST\",\n",
      "    \"TracingConfig\": {\n",
      "        \"Mode\": \"PassThrough\"\n",
      "    }\n",
      "}\n"
     ]
    }
   ],
   "source": [
    "!aws lambda create-function --region us-east-1 --function-name reads3 --zip-file fileb://reads3.zip --role arn:aws:iam::669059827483:role/basic_lambda_role --handler reads3.handler --runtime nodejs6.10 --profile dclambda"
   ]
  },
  {
   "cell_type": "code",
   "execution_count": 18,
   "metadata": {},
   "outputs": [
    {
     "name": "stdout",
     "output_type": "stream",
     "text": [
      "{\r\n",
      "    \"StatusCode\": 200,\r\n",
      "    \"LogResult\": \"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\",\r\n",
      "    \"ExecutedVersion\": \"$LATEST\"\r\n",
      "}\r\n"
     ]
    }
   ],
   "source": [
    "#default, admin, lambdadc in .aws/credentials. doesnt see all of them; only current user. aws cli current-user or something like this\n",
    "#I cant read this when I get a log result string\n",
    "!aws lambda invoke --invocation-type RequestResponse --function-name reads3 --region us-east-1 --log-type Tail --payload '{\"key1\":\"value1\", \"key2\":\"value2\", \"key3\":\"value3\"}' --profile dclambda out.txt #| jq -r .LogResult | base64 --decode  "
   ]
  },
  {
   "cell_type": "code",
   "execution_count": 24,
   "metadata": {},
   "outputs": [
    {
     "name": "stdout",
     "output_type": "stream",
     "text": [
      "{\r\n",
      "    \"FunctionName\": \"reads3_python\",\r\n",
      "    \"FunctionArn\": \"arn:aws:lambda:us-east-1:669059827483:function:reads3_python\",\r\n",
      "    \"Runtime\": \"python3.6\",\r\n",
      "    \"Role\": \"arn:aws:iam::669059827483:role/basic_lambda_role\",\r\n",
      "    \"Handler\": \"reads3_python.lambda_handler\",\r\n",
      "    \"CodeSize\": 482,\r\n",
      "    \"Description\": \"\",\r\n",
      "    \"Timeout\": 3,\r\n",
      "    \"MemorySize\": 128,\r\n",
      "    \"LastModified\": \"2018-06-15T00:13:23.955+0000\",\r\n",
      "    \"CodeSha256\": \"KF7L+12zafEJIXXYnDWoo33KlbObUfV3Zp42JRvstpg=\",\r\n",
      "    \"Version\": \"$LATEST\",\r\n",
      "    \"TracingConfig\": {\r\n",
      "        \"Mode\": \"PassThrough\"\r\n",
      "    }\r\n",
      "}\r\n"
     ]
    }
   ],
   "source": [
    "#better to load into dynamodb and throttle from there\n",
    "#what is cost of this vs. file in s3? \n",
    "#cost per run line/100k lines/1m/10M/100M/1B lines\n",
    "#store results in s3 or hadoop and perform wc on data. each line forms 1 file; not good to have\n",
    "#lots of small files bc IO. \n",
    "# write each 1k into s3 file. \n",
    "!aws lambda create-function --region us-east-1 --function-name reads3_python --zip-file fileb://reads3_python.zip --role arn:aws:iam::669059827483:role/basic_lambda_role --handler reads3_python.lambda_handler --runtime python3.6 --profile dclambda\n",
    "\n"
   ]
  },
  {
   "cell_type": "code",
   "execution_count": 25,
   "metadata": {},
   "outputs": [
    {
     "name": "stdout",
     "output_type": "stream",
     "text": [
      "{\r\n",
      "    \"StatusCode\": 200,\r\n",
      "    \"FunctionError\": \"Unhandled\",\r\n",
      "    \"LogResult\": \"U1RBUlQgUmVxdWVzdElkOiBlZDcxMzJmMy03MDMwLTExZTgtYWJkNS1hNzU2MGVkYzFiMWMgVmVyc2lvbjogJExBVEVTVAp7J2tleTEnOiAndmFsdWUxJywgJ2tleTInOiAndmFsdWUyJywgJ2tleTMnOiAndmFsdWUzJ30KPGJvdG9jb3JlLmNsaWVudC5TMyBvYmplY3QgYXQgMHg3Zjg3M2JlNTU2MzA+CkFuIGVycm9yIG9jY3VycmVkIChBY2Nlc3NEZW5pZWQpIHdoZW4gY2FsbGluZyB0aGUgTGlzdEJ1Y2tldHMgb3BlcmF0aW9uOiBBY2Nlc3MgRGVuaWVkOiBDbGllbnRFcnJvcgpUcmFjZWJhY2sgKG1vc3QgcmVjZW50IGNhbGwgbGFzdCk6CiAgRmlsZSAiL3Zhci90YXNrL3JlYWRzM19weXRob24ucHkiLCBsaW5lIDEwLCBpbiBsYW1iZGFfaGFuZGxlcgogICAgcmVzcG9uc2UgPSBzMy5saXN0X2J1Y2tldHMoKQogIEZpbGUgIi92YXIvcnVudGltZS9ib3RvY29yZS9jbGllbnQucHkiLCBsaW5lIDMxNCwgaW4gX2FwaV9jYWxsCiAgICByZXR1cm4gc2VsZi5fbWFrZV9hcGlfY2FsbChvcGVyYXRpb25fbmFtZSwga3dhcmdzKQogIEZpbGUgIi92YXIvcnVudGltZS9ib3RvY29yZS9jbGllbnQucHkiLCBsaW5lIDYxMiwgaW4gX21ha2VfYXBpX2NhbGwKICAgIHJhaXNlIGVycm9yX2NsYXNzKHBhcnNlZF9yZXNwb25zZSwgb3BlcmF0aW9uX25hbWUpCmJvdG9jb3JlLmV4Y2VwdGlvbnMuQ2xpZW50RXJyb3I6IEFuIGVycm9yIG9jY3VycmVkIChBY2Nlc3NEZW5pZWQpIHdoZW4gY2FsbGluZyB0aGUgTGlzdEJ1Y2tldHMgb3BlcmF0aW9uOiBBY2Nlc3MgRGVuaWVkCgpFTkQgUmVxdWVzdElkOiBlZDcxMzJmMy03MDMwLTExZTgtYWJkNS1hNzU2MGVkYzFiMWMKUkVQT1JUIFJlcXVlc3RJZDogZWQ3MTMyZjMtNzAzMC0xMWU4LWFiZDUtYTc1NjBlZGMxYjFjCUR1cmF0aW9uOiAxNjQzLjY4IG1zCUJpbGxlZCBEdXJhdGlvbjogMTcwMCBtcyAJTWVtb3J5IFNpemU6IDEyOCBNQglNYXggTWVtb3J5IFVzZWQ6IDMzIE1CCQo=\",\r\n",
      "    \"ExecutedVersion\": \"$LATEST\"\r\n",
      "}\r\n"
     ]
    }
   ],
   "source": [
    "\n",
    "!aws lambda invoke --invocation-type RequestResponse --function-name reads3_python --region us-east-1 --log-type Tail --payload '{\"key1\":\"value1\", \"key2\":\"value2\", \"key3\":\"value3\"}' --profile dclambda out_python.txt "
   ]
  },
  {
   "cell_type": "code",
   "execution_count": null,
   "metadata": {},
   "outputs": [],
   "source": []
  }
 ],
 "metadata": {
  "kernelspec": {
   "display_name": "Python 3",
   "language": "python",
   "name": "python3"
  },
  "language_info": {
   "codemirror_mode": {
    "name": "ipython",
    "version": 3
   },
   "file_extension": ".py",
   "mimetype": "text/x-python",
   "name": "python",
   "nbconvert_exporter": "python",
   "pygments_lexer": "ipython3",
   "version": "3.6.5"
  }
 },
 "nbformat": 4,
 "nbformat_minor": 2
}
