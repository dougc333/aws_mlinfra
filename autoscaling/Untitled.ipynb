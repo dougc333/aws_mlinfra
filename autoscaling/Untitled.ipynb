{
 "cells": [
  {
   "cell_type": "markdown",
   "metadata": {},
   "source": [
    "<h6>End to end model wo RNNs or CNNs Transformer Architecture</h6>\n",
    "<li>Takes less time to train and is parallelizable</li>\n",
    "<li> Our model achieves 28.4 BLEU on the WMT 2014 Englishto-German\n",
    "translation task.</li>\n",
    "<li>On the WMT 2014 English-to-French translation task,new single-model state-of-the-art BLEU score of 41.8 after\n",
    "training for 3.5 days on eight GPUs</li>\n",
    "<li>Transformer generalizes well to\n",
    "other tasks by applying it successfully to English constituency parsing both with karge and limited training sets</li>\n",
    "<li>use WSLT vs WMT; smaller datasets are less accurate BLEU 17.4 https://github.com/Kyubyong/transformer</li>\n",
    "<img src='t1.png'>\n"
   ]
  },
  {
   "cell_type": "code",
   "execution_count": 5,
   "metadata": {},
   "outputs": [
    {
     "name": "stdout",
     "output_type": "stream",
     "text": [
      "--2018-04-05 06:27:41--  https://wit3.fbk.eu/archive/2016-01//texts/de/en/de-en.tgz\n",
      "Resolving wit3.fbk.eu... 217.77.80.8\n",
      "Connecting to wit3.fbk.eu|217.77.80.8|:443... connected.\n",
      "HTTP request sent, awaiting response... 200 OK\n",
      "Length: 24180315 (23M) [application/x-gzip]\n",
      "Saving to: 'de-en.tgz'\n",
      "\n",
      "100%[======================================>] 24,180,315  3.85MB/s   in 11s    \n",
      "\n",
      "2018-04-05 06:27:54 (2.02 MB/s) - 'de-en.tgz' saved [24180315/24180315]\n",
      "\n",
      "mv: rename de-en to corpora: No such file or directory\n"
     ]
    }
   ],
   "source": [
    "!wget https://wit3.fbk.eu/archive/2016-01//texts/de/en/de-en.tgz\n",
    "\n"
   ]
  },
  {
   "cell_type": "code",
   "execution_count": null,
   "metadata": {},
   "outputs": [],
   "source": [
    "import numpy as np\n",
    "import torch, torch.nn as nn"
   ]
  }
 ],
 "metadata": {
  "kernelspec": {
   "display_name": "Python 3",
   "language": "python",
   "name": "python3"
  },
  "language_info": {
   "codemirror_mode": {
    "name": "ipython",
    "version": 3
   },
   "file_extension": ".py",
   "mimetype": "text/x-python",
   "name": "python",
   "nbconvert_exporter": "python",
   "pygments_lexer": "ipython3",
   "version": "3.6.1"
  }
 },
 "nbformat": 4,
 "nbformat_minor": 2
}
