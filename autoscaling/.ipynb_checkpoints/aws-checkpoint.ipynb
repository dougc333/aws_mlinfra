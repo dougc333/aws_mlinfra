{
 "cells": [
  {
   "cell_type": "markdown",
   "metadata": {},
   "source": [
    "<h6>Autoscaling</h6>\n",
    "\n",
    "\n",
    "<img src=\"as.png\">\n",
    "\n"
   ]
  },
  {
   "cell_type": "code",
   "execution_count": 11,
   "metadata": {},
   "outputs": [
    {
     "name": "stdout",
     "output_type": "stream",
     "text": [
      "['{', '    \"Regions\": [', '        {', '            \"Endpoint\": \"ec2.ap-south-1.amazonaws.com\",', '            \"RegionName\": \"ap-south-1\"', '        },', '        {', '            \"Endpoint\": \"ec2.eu-west-3.amazonaws.com\",', '            \"RegionName\": \"eu-west-3\"', '        },', '        {', '            \"Endpoint\": \"ec2.eu-west-2.amazonaws.com\",', '            \"RegionName\": \"eu-west-2\"', '        },', '        {', '            \"Endpoint\": \"ec2.eu-west-1.amazonaws.com\",', '            \"RegionName\": \"eu-west-1\"', '        },', '        {', '            \"Endpoint\": \"ec2.ap-northeast-2.amazonaws.com\",', '            \"RegionName\": \"ap-northeast-2\"', '        },', '        {', '            \"Endpoint\": \"ec2.ap-northeast-1.amazonaws.com\",', '            \"RegionName\": \"ap-northeast-1\"', '        },', '        {', '            \"Endpoint\": \"ec2.sa-east-1.amazonaws.com\",', '            \"RegionName\": \"sa-east-1\"', '        },', '        {', '            \"Endpoint\": \"ec2.ca-central-1.amazonaws.com\",', '            \"RegionName\": \"ca-central-1\"', '        },', '        {', '            \"Endpoint\": \"ec2.ap-southeast-1.amazonaws.com\",', '            \"RegionName\": \"ap-southeast-1\"', '        },', '        {', '            \"Endpoint\": \"ec2.ap-southeast-2.amazonaws.com\",', '            \"RegionName\": \"ap-southeast-2\"', '        },', '        {', '            \"Endpoint\": \"ec2.eu-central-1.amazonaws.com\",', '            \"RegionName\": \"eu-central-1\"', '        },', '        {', '            \"Endpoint\": \"ec2.us-east-1.amazonaws.com\",', '            \"RegionName\": \"us-east-1\"', '        },', '        {', '            \"Endpoint\": \"ec2.us-east-2.amazonaws.com\",', '            \"RegionName\": \"us-east-2\"', '        },', '        {', '            \"Endpoint\": \"ec2.us-west-1.amazonaws.com\",', '            \"RegionName\": \"us-west-1\"', '        },', '        {', '            \"Endpoint\": \"ec2.us-west-2.amazonaws.com\",', '            \"RegionName\": \"us-west-2\"', '        }', '    ]', '}']\n",
      "<class 'IPython.utils.text.SList'>\n"
     ]
    }
   ],
   "source": [
    "#verify aws cli workd correctly\n",
    "#result returned as text.SList\n",
    "\n",
    "o = !aws ec2 describe-regions\n",
    "print(o) #this is easier\n",
    "import json,pickle\n",
    "with open('aws', 'wb') as fp:\n",
    "    pickle.dump(o, fp)\n",
    "with open ('aws', 'rb') as fp:\n",
    "    itemlist = pickle.load(fp)\n",
    "print(type(itemlist))\n",
    "\n",
    "#import into database; \n"
   ]
  },
  {
   "cell_type": "code",
   "execution_count": 3,
   "metadata": {},
   "outputs": [
    {
     "name": "stdout",
     "output_type": "stream",
     "text": [
      "\r\n",
      "An error occurred (InvalidLaunchTemplateName.AlreadyExistsException) when calling the CreateLaunchTemplate operation: Launch template name already in use.\r\n"
     ]
    }
   ],
   "source": [
    "\n",
    "!aws ec2 create-launch-template --launch-template-name='launchtemplatename' --launch-template-data='{\"NetworkInterfaces\":[{\"AssociatePublicIpAddress\":true,\"DeviceIndex\":0,\"Ipv6AddressCount\":1,\"SubnetId\":\"subnet-12345\"}],\"ImageId\":\"ami-97c5b0ed\",\"InstanceType\":\"t2.micro\",\"TagSpecifications\":[{\"ResourceType\":\"instance\",\"Tags\":[{\"Key\":\"Name\",\"Value\":\"webserver\"}]}]}' --version-description=\"asdf\"\n",
    "\n"
   ]
  },
  {
   "cell_type": "code",
   "execution_count": 20,
   "metadata": {},
   "outputs": [
    {
     "name": "stdout",
     "output_type": "stream",
     "text": [
      "<class 'dict'>\n",
      "0 LaunchTemplate\n",
      "<class 'dict'>\n",
      "{'LatestVersionNumber': 2, 'LaunchTemplateId': 'lt-0abcd290751193123', 'LaunchTemplateName': 'TestTemplate', 'DefaultVersionNumber': 2, 'CreatedBy': 'arn:aws:iam::123456789012:root', 'CreateTime': '2017-11-23T16:46:25.000Z'}\n",
      "6\n",
      "6\n"
     ]
    }
   ],
   "source": [
    "import json\n",
    "test_json=\"\"\"{\n",
    "  \"LaunchTemplate\": {\n",
    "      \"LatestVersionNumber\": 2,\n",
    "      \"LaunchTemplateId\": \"lt-0abcd290751193123\",\n",
    "      \"LaunchTemplateName\": \"TestTemplate\",\n",
    "      \"DefaultVersionNumber\": 2,\n",
    "      \"CreatedBy\": \"arn:aws:iam::123456789012:root\",\n",
    "      \"CreateTime\": \"2017-11-23T16:46:25.000Z\"\n",
    "  }\n",
    "}\n",
    "\"\"\"\n",
    "result = json.loads(test_json)\n",
    "print(type(result))\n",
    "for idx,x in enumerate(result.keys()):\n",
    "    print(idx,x)\n",
    "    print(type(result[x]))\n",
    "    print(result[x])\n",
    "    print(len(result[x])) #not sure I can consistently remember this, \n",
    "    print(len(result[x].keys()))\n",
    "#want to flatten the dictionary and then extract LaunchTemplateId\n",
    "#I can format this into my own LaunchTemplate Object\n"
   ]
  },
  {
   "cell_type": "code",
   "execution_count": 1,
   "metadata": {},
   "outputs": [
    {
     "name": "stdout",
     "output_type": "stream",
     "text": [
      "{\r\n",
      "    \"LaunchTemplates\": [\r\n",
      "        {\r\n",
      "            \"LaunchTemplateId\": \"lt-0b88c22522dde69b6\",\r\n",
      "            \"LaunchTemplateName\": \"launchtemplatename\",\r\n",
      "            \"CreateTime\": \"2018-03-28T03:14:03.000Z\",\r\n",
      "            \"CreatedBy\": \"arn:aws:iam::669059827483:root\",\r\n",
      "            \"DefaultVersionNumber\": 1,\r\n",
      "            \"LatestVersionNumber\": 1\r\n",
      "        }\r\n",
      "    ]\r\n",
      "}\r\n"
     ]
    }
   ],
   "source": [
    "#Launch template parameters are not validated when you create the launch template\n",
    "#To launch instances, IAM users must have permission to use the ec2:RunInstances action, \n",
    "#and they must have permission to create or use the resources that are created or associated with the instance\n",
    "! aws ec2 describe-launch-templates"
   ]
  },
  {
   "cell_type": "code",
   "execution_count": null,
   "metadata": {},
   "outputs": [],
   "source": [
    "#create load balancer in VPC. There is a default VPC when you login to a new region \n",
    "\n",
    "\n",
    "#\n",
    "#Elastic Load Balancing supports three types of load balancers: \n",
    "#Application Load Balancers, Network Load Balancers, and Classic Load Balancers\n",
    "#\n",
    "#\n",
    "#https://docs.aws.amazon.com/elasticloadbalancing/latest/classic/elb-backend-instances.html#set-up-ec2\n",
    "#each subnet must have X.0.0.0/27 or 8 free IP addresses. Create a subnet in each availibility zone. You can \n",
    "#create public subnet(has route to public gateway), private subnet. The defautl VPC has one public subnet per \n",
    "#availibility zone by default.  \n",
    "#load balancer can communicate with your instances on both the listener port and the health check port. \n",
    "#The network ACLs for your VPC must allow traffic in both directions on the listener port and the health check port\n",
    "#\n",
    "#ClassicLink enables your EC2-Classic instances to communicate with VPC instances using private IP addresses, \n",
    "#provided that the VPC security groups allow it. If you plan to register linked EC2-Classic instances \n",
    "#with your load balancer, you must enable ClassicLink for your VPC, \n",
    "#and then create your load balancer in the ClassicLink-enabled VPC. \n",
    "#\n",
    "#"
   ]
  },
  {
   "cell_type": "code",
   "execution_count": 3,
   "metadata": {},
   "outputs": [
    {
     "ename": "ModuleNotFoundError",
     "evalue": "No module named 'boto'",
     "output_type": "error",
     "traceback": [
      "\u001b[0;31m---------------------------------------------------------------------------\u001b[0m",
      "\u001b[0;31mModuleNotFoundError\u001b[0m                       Traceback (most recent call last)",
      "\u001b[0;32m<ipython-input-3-a225766590ae>\u001b[0m in \u001b[0;36m<module>\u001b[0;34m()\u001b[0m\n\u001b[0;32m----> 1\u001b[0;31m \u001b[0;32mimport\u001b[0m \u001b[0mboto\u001b[0m\u001b[0;34m\u001b[0m\u001b[0m\n\u001b[0m",
      "\u001b[0;31mModuleNotFoundError\u001b[0m: No module named 'boto'"
     ]
    }
   ],
   "source": [
    "import boto"
   ]
  },
  {
   "cell_type": "code",
   "execution_count": null,
   "metadata": {},
   "outputs": [],
   "source": []
  }
 ],
 "metadata": {
  "kernelspec": {
   "display_name": "Python 3",
   "language": "python",
   "name": "python3"
  },
  "language_info": {
   "codemirror_mode": {
    "name": "ipython",
    "version": 3
   },
   "file_extension": ".py",
   "mimetype": "text/x-python",
   "name": "python",
   "nbconvert_exporter": "python",
   "pygments_lexer": "ipython3",
   "version": "3.6.1"
  }
 },
 "nbformat": 4,
 "nbformat_minor": 2
}
