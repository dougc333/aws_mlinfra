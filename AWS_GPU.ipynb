{
 "cells": [
  {
   "cell_type": "markdown",
   "metadata": {},
   "source": [
    "Nvidia website says  NVIDIA Volta architecture, comes in 16 and 32GB configurations. This only uses 16GB config.\n",
    "\n",
    "<img src=\"a1.png\">\n",
    "<img src=\"a2.png\">\n",
    "\n",
    "<img src=\"a3.png\">\n",
    "<img src=\"a4.png\">\n",
    "<img src=\"a5.png\">\n",
    "<img src=\"a6.png\">\n",
    "<img src=\"a7.png\">\n",
    "TPU block diagram\n",
    "<p>The bulk of the compute horsepower in a Cloud TPU is provided by the MXU. Each MXU is capable of performing \n",
    "16K multiply-accumulate operations in each cycle. While the MXU's inputs and outputs are 32-bit floating point \n",
    "values, the MXU performs multiplies at reduced bfloat16 precision. Bfloat16 is a 16-bit floating point representation \n",
    "that provides better training and model accuracy than the IEEE half-precision representation.\n",
    "</p>\n",
    "<img src=\"a2a.png\">\n",
    "<img src=\"a8.png\">\n",
    "<img src=\"a9.png\">\n",
    "<img src=\"a10.png\">\n",
    "<img src=\"a11.png\">\n",
    "<img src=\"a12.png\">\n",
    "<img src=\"a13.png\">\n"
   ]
  },
  {
   "cell_type": "code",
   "execution_count": null,
   "metadata": {},
   "outputs": [],
   "source": [
    "https://www.facebook.com/pg/Engineering/videos/"
   ]
  },
  {
   "cell_type": "markdown",
   "metadata": {},
   "source": [
    "<img src=\"DGX2.png\">\n",
    "<img src=\"DGX2a.png\">\n",
    "\n"
   ]
  },
  {
   "cell_type": "code",
   "execution_count": null,
   "metadata": {},
   "outputs": [],
   "source": [
    "FusedLSTM CPU \n",
    "https://github.com/pytorch/pytorch/pull/6104\n",
    "DataLayouts:\n",
    "https://github.com/pytorch/pytorch/issues/1220"
   ]
  }
 ],
 "metadata": {
  "kernelspec": {
   "display_name": "Python 3",
   "language": "python",
   "name": "python3"
  },
  "language_info": {
   "codemirror_mode": {
    "name": "ipython",
    "version": 3
   },
   "file_extension": ".py",
   "mimetype": "text/x-python",
   "name": "python",
   "nbconvert_exporter": "python",
   "pygments_lexer": "ipython3",
   "version": "3.6.1"
  }
 },
 "nbformat": 4,
 "nbformat_minor": 2
}
