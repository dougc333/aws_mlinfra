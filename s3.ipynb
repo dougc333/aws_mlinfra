{
 "cells": [
  {
   "cell_type": "markdown",
   "metadata": {},
   "source": [
    "<h6>AWS cli to create, delete buckets, copy contents of 1 bucket in 1 region to another</h6>\n",
    "boto not as easy to use. "
   ]
  },
  {
   "cell_type": "code",
   "execution_count": 1,
   "metadata": {},
   "outputs": [
    {
     "name": "stdout",
     "output_type": "stream",
     "text": [
      "fatal error: An error occurred (NoSuchBucket) when calling the ListObjects operation: The specified bucket does not exist\r\n"
     ]
    }
   ],
   "source": [
    "#if the bucket testdc111 is not precre3ated you get the following error mesage\n",
    "!aws s3 sync s3://testdc333 s3://testdc111 --source-region us-west-1 --region us-east-1"
   ]
  },
  {
   "cell_type": "code",
   "execution_count": 2,
   "metadata": {},
   "outputs": [],
   "source": [
    "!aws s3 sync s3://testdc333 s3://testdc222 --source-region us-west-1 --region us-east-1\n"
   ]
  },
  {
   "cell_type": "code",
   "execution_count": 3,
   "metadata": {},
   "outputs": [
    {
     "name": "stdout",
     "output_type": "stream",
     "text": [
      "\r\n",
      "An error occurred (BucketNotEmpty) when calling the DeleteBucket operation: The bucket you tried to delete is not empty\r\n"
     ]
    }
   ],
   "source": [
    "!aws s3api delete-bucket --bucket testdc333 --region us-west-1"
   ]
  },
  {
   "cell_type": "code",
   "execution_count": 5,
   "metadata": {},
   "outputs": [
    {
     "name": "stdout",
     "output_type": "stream",
     "text": [
      "{\r\n",
      "    \"Contents\": [\r\n",
      "        {\r\n",
      "            \"Key\": \"/2018-04-27-08-10-54/output.txt\",\r\n",
      "            \"LastModified\": \"2018-04-27T08:16:27.000Z\",\r\n",
      "            \"ETag\": \"\\\"7ab8ef3ca22e45a8de0c7c46467654e1\\\"\",\r\n",
      "            \"Size\": 786,\r\n",
      "            \"StorageClass\": \"STANDARD\",\r\n",
      "            \"Owner\": {\r\n",
      "                \"DisplayName\": \"dougc333\",\r\n",
      "                \"ID\": \"5dd2fd4e27f91fba033a0f69b9620e7fd7af4b6c8fd79d0b03f2c9e5d2aa0eca\"\r\n",
      "            }\r\n",
      "        },\r\n",
      "        {\r\n",
      "            \"Key\": \"/2018-04-27-08-11-47/output.txt\",\r\n",
      "            \"LastModified\": \"2018-04-27T08:17:07.000Z\",\r\n",
      "            \"ETag\": \"\\\"b7bad1a18aae2adc05a363b5cd4ab19b\\\"\",\r\n",
      "            \"Size\": 780,\r\n",
      "            \"StorageClass\": \"STANDARD\",\r\n",
      "            \"Owner\": {\r\n",
      "                \"DisplayName\": \"dougc333\",\r\n",
      "                \"ID\": \"5dd2fd4e27f91fba033a0f69b9620e7fd7af4b6c8fd79d0b03f2c9e5d2aa0eca\"\r\n",
      "            }\r\n",
      "        },\r\n",
      "        {\r\n",
      "            \"Key\": \"/_dummy\",\r\n",
      "            \"LastModified\": \"2018-04-27T08:11:50.000Z\",\r\n",
      "            \"ETag\": \"\\\"d41d8cd98f00b204e9800998ecf8427e\\\"\",\r\n",
      "            \"Size\": 0,\r\n",
      "            \"StorageClass\": \"STANDARD\",\r\n",
      "            \"Owner\": {\r\n",
      "                \"DisplayName\": \"dougc333\",\r\n",
      "                \"ID\": \"5dd2fd4e27f91fba033a0f69b9620e7fd7af4b6c8fd79d0b03f2c9e5d2aa0eca\"\r\n",
      "            }\r\n",
      "        },\r\n",
      "        {\r\n",
      "            \"Key\": \"75fcc1cc348b0a6495ebf9d8ad381359\",\r\n",
      "            \"LastModified\": \"2018-05-27T18:24:10.000Z\",\r\n",
      "            \"ETag\": \"\\\"75fcc1cc348b0a6495ebf9d8ad381359\\\"\",\r\n",
      "            \"Size\": 553,\r\n",
      "            \"StorageClass\": \"STANDARD\",\r\n",
      "            \"Owner\": {\r\n",
      "                \"DisplayName\": \"dougc333\",\r\n",
      "                \"ID\": \"5dd2fd4e27f91fba033a0f69b9620e7fd7af4b6c8fd79d0b03f2c9e5d2aa0eca\"\r\n",
      "            }\r\n",
      "        },\r\n",
      "        {\r\n",
      "            \"Key\": \"empty1.fastq\",\r\n",
      "            \"LastModified\": \"2018-05-09T21:37:26.000Z\",\r\n",
      "            \"ETag\": \"\\\"87f9b973e7c475fcebfb4a913f872f19\\\"\",\r\n",
      "            \"Size\": 73803,\r\n",
      "            \"StorageClass\": \"STANDARD\",\r\n",
      "            \"Owner\": {\r\n",
      "                \"DisplayName\": \"dougc333\",\r\n",
      "                \"ID\": \"5dd2fd4e27f91fba033a0f69b9620e7fd7af4b6c8fd79d0b03f2c9e5d2aa0eca\"\r\n",
      "            }\r\n",
      "        }\r\n",
      "    ]\r\n",
      "}\r\n"
     ]
    }
   ],
   "source": [
    "!aws s3api list-objects --bucket testdc333\n"
   ]
  },
  {
   "cell_type": "code",
   "execution_count": 6,
   "metadata": {},
   "outputs": [
    {
     "name": "stdout",
     "output_type": "stream",
     "text": [
      "delete: s3://testdc333//2018-04-27-08-11-47/output.txt\n",
      "delete: s3://testdc333//2018-04-27-08-10-54/output.txt\n",
      "delete: s3://testdc333//_dummy\n",
      "delete: s3://testdc333/75fcc1cc348b0a6495ebf9d8ad381359\n",
      "delete: s3://testdc333/empty1.fastq\n",
      "remove_bucket: testdc333\n"
     ]
    }
   ],
   "source": [
    "!aws s3 rb --force s3://testdc333"
   ]
  },
  {
   "cell_type": "code",
   "execution_count": 7,
   "metadata": {},
   "outputs": [
    {
     "name": "stdout",
     "output_type": "stream",
     "text": [
      "{\r\n",
      "    \"UserProfiles\": [\r\n",
      "        {\r\n",
      "            \"IamUserArn\": \"arn:aws:iam::669059827483:user/dclambda\",\r\n",
      "            \"Name\": \"dclambda\",\r\n",
      "            \"SshUsername\": \"dclambda\",\r\n",
      "            \"AllowSelfManagement\": false\r\n",
      "        },\r\n",
      "        {\r\n",
      "            \"IamUserArn\": \"arn:aws:iam::669059827483:root\",\r\n",
      "            \"Name\": \"root\",\r\n",
      "            \"SshUsername\": \"not-root\",\r\n",
      "            \"AllowSelfManagement\": false\r\n",
      "        }\r\n",
      "    ]\r\n",
      "}\r\n"
     ]
    }
   ],
   "source": [
    "!aws opsworks --region us-east-1 describe-user-profiles"
   ]
  },
  {
   "cell_type": "markdown",
   "metadata": {},
   "source": [
    "<h6>S3 aws cli</h6>"
   ]
  },
  {
   "cell_type": "code",
   "execution_count": 17,
   "metadata": {},
   "outputs": [],
   "source": [
    "#Regions outside of us-east-1 require the appropriate \n",
    "#\n",
    "!aws s3api delete-bucket --bucket asdfdcmy-bucket --region us-east-1"
   ]
  },
  {
   "cell_type": "code",
   "execution_count": 18,
   "metadata": {},
   "outputs": [
    {
     "name": "stdout",
     "output_type": "stream",
     "text": [
      "{\r\n",
      "    \"Buckets\": [\r\n",
      "        {\r\n",
      "            \"Name\": \"testdc222\",\r\n",
      "            \"CreationDate\": \"2018-05-29T05:45:54.000Z\"\r\n",
      "        }\r\n",
      "    ],\r\n",
      "    \"Owner\": {\r\n",
      "        \"DisplayName\": \"dougc333\",\r\n",
      "        \"ID\": \"5dd2fd4e27f91fba033a0f69b9620e7fd7af4b6c8fd79d0b03f2c9e5d2aa0eca\"\r\n",
      "    }\r\n",
      "}\r\n"
     ]
    }
   ],
   "source": [
    "!aws s3api list-buckets"
   ]
  },
  {
   "cell_type": "code",
   "execution_count": null,
   "metadata": {},
   "outputs": [],
   "source": [
    "#create bucket\n",
    "#this is not mentioned in the boto docs\n",
    "#LocationConstraint to be specified in order to create the bucket in the desired region outside of us-east-1:\n",
    "\n",
    "!aws s3api create-bucket --bucket asdfdcmy-bucket --region us-east-1"
   ]
  }
 ],
 "metadata": {
  "kernelspec": {
   "display_name": "Python 3",
   "language": "python",
   "name": "python3"
  },
  "language_info": {
   "codemirror_mode": {
    "name": "ipython",
    "version": 3
   },
   "file_extension": ".py",
   "mimetype": "text/x-python",
   "name": "python",
   "nbconvert_exporter": "python",
   "pygments_lexer": "ipython3",
   "version": "3.6.5"
  }
 },
 "nbformat": 4,
 "nbformat_minor": 2
}
